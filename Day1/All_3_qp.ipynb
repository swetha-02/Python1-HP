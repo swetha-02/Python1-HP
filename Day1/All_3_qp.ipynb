{
 "cells": [
  {
   "cell_type": "markdown",
   "metadata": {},
   "source": [
    "PYTHON TEST - 1"
   ]
  },
  {
   "cell_type": "markdown",
   "metadata": {},
   "source": [
    "1) Program to print a multiplication table."
   ]
  },
  {
   "cell_type": "code",
   "execution_count": 1,
   "metadata": {},
   "outputs": [
    {
     "name": "stdout",
     "output_type": "stream",
     "text": [
      "5*1=5\n",
      "5*2=10\n",
      "5*3=15\n",
      "5*4=20\n",
      "5*5=25\n",
      "5*6=30\n",
      "5*7=35\n",
      "5*8=40\n",
      "5*9=45\n",
      "5*10=50\n"
     ]
    }
   ],
   "source": [
    "num=int(input(\"Enter the number:\"))\n",
    "for i in range(1,11): \n",
    "    mul=num*i\n",
    "    print(f\"{num}*{i}={mul}\")"
   ]
  },
  {
   "cell_type": "markdown",
   "metadata": {},
   "source": [
    "Alternative method 1"
   ]
  },
  {
   "cell_type": "code",
   "execution_count": 5,
   "metadata": {},
   "outputs": [
    {
     "name": "stdout",
     "output_type": "stream",
     "text": [
      "5 * 0 = 0\n",
      "5 * 1 = 5\n",
      "5 * 2 = 10\n",
      "5 * 3 = 15\n",
      "5 * 4 = 20\n",
      "5 * 5 = 25\n",
      "5 * 6 = 30\n",
      "5 * 7 = 35\n",
      "5 * 8 = 40\n",
      "5 * 9 = 45\n",
      "5 * 10 = 50\n"
     ]
    }
   ],
   "source": [
    "num = int(input(\"Enter the number: \"))\n",
    "count = 0\n",
    "while count < 11:\n",
    "    mul = num * count\n",
    "    print(f\"{num} * {count} = {mul}\")\n",
    "    count = count + 1"
   ]
  },
  {
   "cell_type": "markdown",
   "metadata": {},
   "source": [
    "Alternative Method 2"
   ]
  },
  {
   "cell_type": "code",
   "execution_count": 6,
   "metadata": {},
   "outputs": [],
   "source": [
    "def mul(a,b):\n",
    "    a=int(input(\"Enter the number 1:\"))\n",
    "    b=int(input(\"Enter the number 2:\"))\n",
    "    multiply=a*b\n",
    "    return multiply"
   ]
  },
  {
   "cell_type": "code",
   "execution_count": 9,
   "metadata": {},
   "outputs": [
    {
     "data": {
      "text/plain": [
       "24"
      ]
     },
     "execution_count": 9,
     "metadata": {},
     "output_type": "execute_result"
    }
   ],
   "source": [
    "mul('a','b')"
   ]
  },
  {
   "cell_type": "markdown",
   "metadata": {},
   "source": [
    "2) List2 = [3,6,9,1,5,7] .Find the length of the list without using any built in functions."
   ]
  },
  {
   "cell_type": "code",
   "execution_count": 15,
   "metadata": {},
   "outputs": [
    {
     "name": "stdout",
     "output_type": "stream",
     "text": [
      "6\n"
     ]
    }
   ],
   "source": [
    "List2=[3,6,9,1,5,7]\n",
    "length=0\n",
    "for i in List2:\n",
    "    length += 1\n",
    "print(length)"
   ]
  },
  {
   "cell_type": "markdown",
   "metadata": {},
   "source": [
    "Alternative method"
   ]
  },
  {
   "cell_type": "code",
   "execution_count": 1,
   "metadata": {},
   "outputs": [],
   "source": [
    "from collections import Counter"
   ]
  },
  {
   "cell_type": "code",
   "execution_count": 7,
   "metadata": {},
   "outputs": [
    {
     "name": "stdout",
     "output_type": "stream",
     "text": [
      "6\n"
     ]
    }
   ],
   "source": [
    "List2=[3,6,9,1,5,7]\n",
    "length=sum(Counter(List2).values())\n",
    "print(length)"
   ]
  },
  {
   "cell_type": "markdown",
   "metadata": {},
   "source": [
    "3) List1=[22,45,”python”,21,”sample”] . \n",
    "Add 20 in the above list and sum all the integers in the list without using the sum function."
   ]
  },
  {
   "cell_type": "code",
   "execution_count": 29,
   "metadata": {},
   "outputs": [
    {
     "name": "stdout",
     "output_type": "stream",
     "text": [
      "[22, 45, 'python', 21, 'sample', 20]\n"
     ]
    }
   ],
   "source": [
    "List1=[22,45,\"python\",21,\"sample\"]\n",
    "List1.append(20)\n",
    "print(List1)"
   ]
  },
  {
   "cell_type": "code",
   "execution_count": 32,
   "metadata": {},
   "outputs": [
    {
     "name": "stdout",
     "output_type": "stream",
     "text": [
      "108\n"
     ]
    }
   ],
   "source": [
    "sum=0\n",
    "for i in List1:\n",
    "    if type(i)==int:\n",
    "        sum=sum+i\n",
    "print(sum)"
   ]
  },
  {
   "cell_type": "markdown",
   "metadata": {},
   "source": [
    "Alternative method"
   ]
  },
  {
   "cell_type": "code",
   "execution_count": 35,
   "metadata": {},
   "outputs": [
    {
     "name": "stdout",
     "output_type": "stream",
     "text": [
      "108\n"
     ]
    }
   ],
   "source": [
    "List1=[22,45,\"python\",21,\"sample\"]\n",
    "List1.append(20)\n",
    "a=[x for x in List1 if type(x)==int]\n",
    "sum=0\n",
    "for i in a:\n",
    "    sum=sum+i\n",
    "print(sum)"
   ]
  },
  {
   "cell_type": "markdown",
   "metadata": {},
   "source": [
    "4) Find the given output, from the following dictionaries\n",
    "     set1 = {'Ajith' : 12, 'Balu' : 20, 'chinnu' : 10 } \n",
    "     set2 = {'David' : 16, 'Eshwar' : 08, 'Frank' : 18} \n",
    "     output = [08,10,12,16,18,20]\n"
   ]
  },
  {
   "cell_type": "code",
   "execution_count": 37,
   "metadata": {},
   "outputs": [],
   "source": [
    "set1 = {'Ajith' : 12, 'Balu' : 20, 'chinnu' : 10 }\n",
    "set2 = {'David' : 16, 'Eshwar' :8, 'Frank' : 18}"
   ]
  },
  {
   "cell_type": "code",
   "execution_count": 42,
   "metadata": {},
   "outputs": [
    {
     "name": "stdout",
     "output_type": "stream",
     "text": [
      "[8, 10, 12, 16, 18, 20]\n"
     ]
    }
   ],
   "source": [
    "a=set1|set2\n",
    "val=dict.values(a)\n",
    "print(sorted(val))"
   ]
  },
  {
   "cell_type": "markdown",
   "metadata": {},
   "source": [
    "Alternative method"
   ]
  },
  {
   "cell_type": "code",
   "execution_count": 11,
   "metadata": {},
   "outputs": [
    {
     "name": "stdout",
     "output_type": "stream",
     "text": [
      "[12, 20, 10, 16, 8, 18]\n",
      "[8, 10, 12, 16, 18, 20]\n"
     ]
    }
   ],
   "source": [
    "set1 = {'Ajith' : 12, 'Balu' : 20, 'chinnu' : 10 }\n",
    "set2 = {'David' : 16, 'Eshwar' :8, 'Frank' : 18}\n",
    "\n",
    "set3=list(set1.values())+list(set2.values())\n",
    "# print(set3)\n",
    "set3.sort()\n",
    "print(set3)"
   ]
  },
  {
   "cell_type": "markdown",
   "metadata": {},
   "source": [
    "Alternative method 2"
   ]
  },
  {
   "cell_type": "code",
   "execution_count": 12,
   "metadata": {},
   "outputs": [
    {
     "name": "stdout",
     "output_type": "stream",
     "text": [
      "[8, 10, 12, 16, 18, 20]\n"
     ]
    }
   ],
   "source": [
    "set1 = {'Ajith' : 12, 'Balu' : 20, 'chinnu' : 10 }\n",
    "set2 = {'David' : 16, 'Eshwar' :8, 'Frank' : 18}\n",
    "\n",
    "a=set1|set2\n",
    "output=[x for x in a.values()]\n",
    "print(sorted(output))"
   ]
  },
  {
   "cell_type": "markdown",
   "metadata": {},
   "source": [
    "5) solve the following problems\n",
    "(i)Remove the first value of tuples from list1... \n",
    "list1 = [12,1,3,34,5,6,78,(12,34),323,545,'call',23,'cut',('end','call'),2111,43]"
   ]
  },
  {
   "cell_type": "code",
   "execution_count": 70,
   "metadata": {},
   "outputs": [
    {
     "name": "stdout",
     "output_type": "stream",
     "text": [
      "[12, 1, 3, 34, 5, 6, 78, (34,), 323, 545, 'call', 23, 'cut', ('call',), 2111, 43]\n"
     ]
    }
   ],
   "source": [
    "list1 = [12,1,3,34,5,6,78,(12,34),323,545,'call',23,'cut',('end','call'),2111,43]\n",
    "for i in range(len(list1)):\n",
    "    if type(list1[i])==tuple:\n",
    "        r=list1[i][1:]\n",
    "        list1[i]=r\n",
    "print(list1)"
   ]
  },
  {
   "cell_type": "markdown",
   "metadata": {},
   "source": [
    "Alternative way"
   ]
  },
  {
   "cell_type": "code",
   "execution_count": 13,
   "metadata": {},
   "outputs": [
    {
     "name": "stdout",
     "output_type": "stream",
     "text": [
      "[12, 1, 3, 34, 5, 6, 78, (34,), 323, 545, 'call', 23, 'cut', ('call',), 2111, 43]\n"
     ]
    }
   ],
   "source": [
    "list1 = [12,1,3,34,5,6,78,(12,34),323,545,'call',23,'cut',('end','call'),2111,43]\n",
    "output=[x[1:] if type(x)==tuple else x for x in list1]\n",
    "print(output)"
   ]
  },
  {
   "cell_type": "markdown",
   "metadata": {},
   "source": [
    "6) l=[1,2,3,4]\n",
    "    s=[\"s\",\"d\",\"w\"]\n",
    "    Output: {'s': [1, 2, 3, 4], 'd': [1, 2, 3, 4], 'w': [1, 2, 3, 4]}"
   ]
  },
  {
   "cell_type": "code",
   "execution_count": 81,
   "metadata": {},
   "outputs": [
    {
     "data": {
      "text/plain": [
       "{'s': [1, 2, 3, 4], 'd': [1, 2, 3, 4], 'w': [1, 2, 3, 4]}"
      ]
     },
     "execution_count": 81,
     "metadata": {},
     "output_type": "execute_result"
    }
   ],
   "source": [
    "l=[1,2,3,4]\n",
    "s=[\"s\",\"d\",\"w\"]\n",
    "details=dict()\n",
    "details.fromkeys(s,l)"
   ]
  },
  {
   "cell_type": "markdown",
   "metadata": {},
   "source": [
    "Alternative method"
   ]
  },
  {
   "cell_type": "code",
   "execution_count": 31,
   "metadata": {},
   "outputs": [
    {
     "name": "stdout",
     "output_type": "stream",
     "text": [
      "['s', 'd', 'w']\n"
     ]
    }
   ],
   "source": [
    "l=[1,2,3,4]\n",
    "s=[\"s\",\"d\",\"w\"]\n",
    "d={}\n",
    "for i in s:\n",
    "    d[i]=l\n",
    "print(s)"
   ]
  },
  {
   "cell_type": "markdown",
   "metadata": {},
   "source": [
    "\n",
    "7) Write a loop to display a number series with 20 numbers, from 7 and the difference between them is 8, and to filter out three middle values in the series. (The number series should have 23 numbers, starting from 7 and the difference between them is 8, but without the middle values of 11, 12, 13 sequence of numbers).\n"
   ]
  },
  {
   "cell_type": "code",
   "execution_count": 85,
   "metadata": {},
   "outputs": [
    {
     "name": "stdout",
     "output_type": "stream",
     "text": [
      "[7, 15, 23, 31, 39, 47, 55, 63, 71, 79, 87, 95, 103, 111, 119, 127, 135, 143, 151, 159, 167, 175, 183]\n"
     ]
    }
   ],
   "source": [
    "res=[]\n",
    "for i in range(7,185,8):\n",
    "    res.append(i)\n",
    "print(res)\n"
   ]
  },
  {
   "cell_type": "code",
   "execution_count": 86,
   "metadata": {},
   "outputs": [
    {
     "name": "stdout",
     "output_type": "stream",
     "text": [
      "[7, 15, 23, 31, 39, 47, 55, 63, 71, 79, 111, 119, 127, 135, 143, 151, 159, 167, 175, 183]\n"
     ]
    }
   ],
   "source": [
    "del res[10]\n",
    "del res[10]\n",
    "del res[10]\n",
    "print(res)"
   ]
  },
  {
   "cell_type": "markdown",
   "metadata": {},
   "source": [
    "Alternative method 1"
   ]
  },
  {
   "cell_type": "code",
   "execution_count": 88,
   "metadata": {},
   "outputs": [
    {
     "name": "stdout",
     "output_type": "stream",
     "text": [
      "[7, 15, 23, 31, 39, 47, 55, 63, 71, 79, 111, 119, 127, 135, 143, 151, 159, 167, 175, 183]\n"
     ]
    }
   ],
   "source": [
    "res=[i for i in range(7,185,8)]\n",
    "res=res[:10]+res[13:]\n",
    "print(res)"
   ]
  },
  {
   "cell_type": "markdown",
   "metadata": {},
   "source": [
    "Alternative method 2"
   ]
  },
  {
   "cell_type": "code",
   "execution_count": 92,
   "metadata": {},
   "outputs": [
    {
     "name": "stdout",
     "output_type": "stream",
     "text": [
      "[7, 15, 23, 31, 39, 47, 55, 63, 71, 79, 87, 95, 103, 111, 119, 127, 135, 143, 151, 159, 167, 175, 183]\n"
     ]
    }
   ],
   "source": [
    "res=[]\n",
    "num=7\n",
    "for i in range(23):\n",
    "    res.append(num)\n",
    "    num+=8\n",
    "print(res)"
   ]
  },
  {
   "cell_type": "code",
   "execution_count": 93,
   "metadata": {},
   "outputs": [
    {
     "name": "stdout",
     "output_type": "stream",
     "text": [
      "[7, 15, 23, 31, 39, 47, 55, 63, 71, 79, 111, 119, 127, 135, 143, 151, 159, 167, 175, 183]\n"
     ]
    }
   ],
   "source": [
    "res=res[:10]+res[13:]\n",
    "print(res)"
   ]
  },
  {
   "cell_type": "markdown",
   "metadata": {},
   "source": [
    "8)Print Prime numbers up to the given input."
   ]
  },
  {
   "cell_type": "code",
   "execution_count": 34,
   "metadata": {},
   "outputs": [
    {
     "name": "stdout",
     "output_type": "stream",
     "text": [
      "2\n",
      "3\n",
      "5\n",
      "7\n",
      "11\n",
      "13\n",
      "17\n",
      "19\n"
     ]
    }
   ],
   "source": [
    "num=int(input(\"Enter num:\"))\n",
    "for i in range(2,num+1):\n",
    "        c=0\n",
    "        for j in range(2,i):\n",
    "            if i%j==0:\n",
    "                c+=1\n",
    "                break\n",
    "        if c==0:\n",
    "            print(i)"
   ]
  },
  {
   "cell_type": "markdown",
   "metadata": {},
   "source": [
    "9) Write a Python program to write a text file and read that file."
   ]
  },
  {
   "cell_type": "code",
   "execution_count": 24,
   "metadata": {},
   "outputs": [],
   "source": [
    "with open(\"demo.txt\",\"w\") as file:\n",
    "    file.write(\"Swetha is practicing python\")"
   ]
  },
  {
   "cell_type": "code",
   "execution_count": 25,
   "metadata": {},
   "outputs": [
    {
     "name": "stdout",
     "output_type": "stream",
     "text": [
      "Swetha is practicing python\n"
     ]
    }
   ],
   "source": [
    "with open(\"demo.txt\",\"r\") as f:\n",
    "    f1=f.read()\n",
    "    print(f1)"
   ]
  },
  {
   "cell_type": "markdown",
   "metadata": {},
   "source": [
    "10)Pyhton program to calculate the sum of three given numbers,\n",
    "\tif the values are equal then return its cube of their number."
   ]
  },
  {
   "cell_type": "code",
   "execution_count": 1,
   "metadata": {},
   "outputs": [
    {
     "name": "stdout",
     "output_type": "stream",
     "text": [
      "1728\n"
     ]
    }
   ],
   "source": [
    "val1=int(input(\"Enter the number1:\"))\n",
    "val2=int(input(\"Enter number2:\"))\n",
    "val3=int(input(\"Enter number3:\"))\n",
    "if val1==val2==val3:\n",
    "    print(val1**3)\n",
    "else:\n",
    "    print(val1+val2+val3)"
   ]
  },
  {
   "cell_type": "markdown",
   "metadata": {},
   "source": [
    "Alternative method"
   ]
  },
  {
   "cell_type": "code",
   "execution_count": 5,
   "metadata": {},
   "outputs": [],
   "source": [
    "def func():\n",
    "    if val1==val2==val3:\n",
    "        print(val1**3)\n",
    "    else:\n",
    "        print(val1+val2+val3)"
   ]
  },
  {
   "cell_type": "code",
   "execution_count": 6,
   "metadata": {},
   "outputs": [
    {
     "name": "stdout",
     "output_type": "stream",
     "text": [
      "1728\n"
     ]
    }
   ],
   "source": [
    "val1=int(input(\"Enter the number1:\"))\n",
    "val2=int(input(\"Enter number2:\"))\n",
    "val3=int(input(\"Enter number3:\"))\n",
    "func()"
   ]
  },
  {
   "cell_type": "markdown",
   "metadata": {},
   "source": [
    "11)Python Program to find Leap year."
   ]
  },
  {
   "cell_type": "code",
   "execution_count": 16,
   "metadata": {},
   "outputs": [
    {
     "name": "stdout",
     "output_type": "stream",
     "text": [
      "2020 is a leap year\n"
     ]
    }
   ],
   "source": [
    "year=int(input(\"Enter the year:\"))\n",
    "if year%4==0 and year%100!=0:\n",
    "    print(f\"{year} is a leap year\")\n",
    "elif year%400==0 and year%100==0:\n",
    "    print(f\"{year} is a leap year\")\n",
    "else:\n",
    "    print(f\"{year} is not a leap year\")"
   ]
  },
  {
   "cell_type": "markdown",
   "metadata": {},
   "source": [
    "Alternative method"
   ]
  },
  {
   "cell_type": "code",
   "execution_count": 17,
   "metadata": {},
   "outputs": [],
   "source": [
    "def leap_year():\n",
    "    if year%4==0 and (year%400==0 or year%100!=0):\n",
    "        print(f\"{year} is a leap year\")\n",
    "    else:\n",
    "        print(f\"{year} is not a leap year\")"
   ]
  },
  {
   "cell_type": "code",
   "execution_count": 18,
   "metadata": {},
   "outputs": [
    {
     "name": "stdout",
     "output_type": "stream",
     "text": [
      "2000 is a leap year\n"
     ]
    }
   ],
   "source": [
    "year=int(input(\"Enter the year:\"))\n",
    "leap_year()"
   ]
  },
  {
   "cell_type": "markdown",
   "metadata": {},
   "source": [
    "Alternative method 2"
   ]
  },
  {
   "cell_type": "code",
   "execution_count": 19,
   "metadata": {},
   "outputs": [
    {
     "name": "stdout",
     "output_type": "stream",
     "text": [
      "It is a leap year\n"
     ]
    }
   ],
   "source": [
    "leap_year=lambda year:(year%4==0)and (year%400==0 or year%100!=0)\n",
    "year=int(input(\"Enter the year:\"))\n",
    "if leap_year(year):\n",
    "    print(\"It is a leap year\")\n",
    "else:\n",
    "    print(\"It is not a leap year\")"
   ]
  },
  {
   "cell_type": "markdown",
   "metadata": {},
   "source": [
    "12)Python program to Print unique values in the list.\n",
    "\tlist=[1,2,2,3,3,3,4,4,5,5]\n",
    "\toutput=[1,2,,3,4,5]"
   ]
  },
  {
   "cell_type": "code",
   "execution_count": 21,
   "metadata": {},
   "outputs": [
    {
     "name": "stdout",
     "output_type": "stream",
     "text": [
      "[1, 2, 3, 4, 5]\n"
     ]
    }
   ],
   "source": [
    "list1=[1,2,2,3,3,3,4,4,5,5]\n",
    "output=set(list1)\n",
    "print(list(output))"
   ]
  },
  {
   "cell_type": "markdown",
   "metadata": {},
   "source": [
    "Alternative method"
   ]
  },
  {
   "cell_type": "code",
   "execution_count": 28,
   "metadata": {},
   "outputs": [
    {
     "name": "stdout",
     "output_type": "stream",
     "text": [
      "[1, 2, 3, 4, 5]\n"
     ]
    }
   ],
   "source": [
    "list1=[1,2,2,3,3,3,4,4,5,5]\n",
    "unique=[]\n",
    "for i in list1:\n",
    "    if i not in unique:\n",
    "        unique.append(i)\n",
    "print(unique)"
   ]
  },
  {
   "cell_type": "markdown",
   "metadata": {},
   "source": [
    "Alternative method 2"
   ]
  },
  {
   "cell_type": "code",
   "execution_count": 31,
   "metadata": {},
   "outputs": [
    {
     "name": "stdout",
     "output_type": "stream",
     "text": [
      "[1, 2, 3, 4, 5]\n"
     ]
    }
   ],
   "source": [
    "list1=[1,2,2,3,3,3,4,4,5,5]\n",
    "unique=list(dict.fromkeys(list1))\n",
    "print(unique)"
   ]
  },
  {
   "cell_type": "markdown",
   "metadata": {},
   "source": [
    "13)Find all prime number in an interval of (900,1000)."
   ]
  },
  {
   "cell_type": "code",
   "execution_count": 32,
   "metadata": {},
   "outputs": [
    {
     "name": "stdout",
     "output_type": "stream",
     "text": [
      "907\n",
      "911\n",
      "919\n",
      "929\n",
      "937\n",
      "941\n",
      "947\n",
      "953\n",
      "967\n",
      "971\n",
      "977\n",
      "983\n",
      "991\n",
      "997\n"
     ]
    }
   ],
   "source": [
    "for i in range(900,1001):\n",
    "    if i>1:\n",
    "        for j in range(2,i):\n",
    "            if i%j==0:\n",
    "                break\n",
    "        else:\n",
    "            print(i)    "
   ]
  },
  {
   "cell_type": "markdown",
   "metadata": {},
   "source": [
    "Alternative method"
   ]
  },
  {
   "cell_type": "code",
   "execution_count": 4,
   "metadata": {},
   "outputs": [
    {
     "name": "stdout",
     "output_type": "stream",
     "text": [
      "907\n",
      "911\n",
      "919\n",
      "929\n",
      "937\n",
      "941\n",
      "947\n",
      "953\n",
      "967\n",
      "971\n",
      "977\n",
      "983\n",
      "991\n",
      "997\n"
     ]
    }
   ],
   "source": [
    "for i in range(900,1000):\n",
    "    count=0\n",
    "    for j in range(2,i):\n",
    "        if i%j==0:\n",
    "            count+=1\n",
    "            break\n",
    "    if count==0:\n",
    "        print(i)"
   ]
  },
  {
   "cell_type": "markdown",
   "metadata": {},
   "source": [
    "14)Find the given output from the input using slicing\n",
    "\tInput=('a','b','c','d','e','f','g','h')\n",
    "\toutput=('a', 'c', 'e')"
   ]
  },
  {
   "cell_type": "code",
   "execution_count": 33,
   "metadata": {},
   "outputs": [
    {
     "data": {
      "text/plain": [
       "('a', 'c', 'e')"
      ]
     },
     "execution_count": 33,
     "metadata": {},
     "output_type": "execute_result"
    }
   ],
   "source": [
    "Input=('a','b','c','d','e','f','g','h')\n",
    "Input[0:5:2]"
   ]
  },
  {
   "cell_type": "code",
   "execution_count": 10,
   "metadata": {},
   "outputs": [
    {
     "name": "stdout",
     "output_type": "stream",
     "text": [
      "('a', 'c', 'e')\n"
     ]
    }
   ],
   "source": [
    "Input=('a','b','c','d','e','f','g','h')\n",
    "output=tuple(filter(lambda x:Input.index(x)%2==0,Input))\n",
    "print(output[:-1:1])"
   ]
  },
  {
   "cell_type": "markdown",
   "metadata": {},
   "source": [
    "15)Write a String Formatting program \n",
    "\tlist=[\"apple\",\"ORANGE\",\"mango\"]\n",
    "\tOUTPUT= result 1 is APPLE\n",
    "\t\tresult 2 is orange\n",
    "\t\tresult 3 is Mango"
   ]
  },
  {
   "cell_type": "code",
   "execution_count": 43,
   "metadata": {},
   "outputs": [
    {
     "name": "stdout",
     "output_type": "stream",
     "text": [
      "result 1 is APPLE\n",
      "result 2 is orange\n",
      "result 3 is Mango\n"
     ]
    }
   ],
   "source": [
    "list1=[\"apple\",\"ORANGE\",\"mango\"]\n",
    "print(\"result 1 is\",list1[0].upper())\n",
    "print(\"result 2 is\",list1[1].lower())\n",
    "print(\"result 3 is\",list1[2].title())"
   ]
  },
  {
   "cell_type": "markdown",
   "metadata": {},
   "source": [
    "Alternative method "
   ]
  },
  {
   "cell_type": "code",
   "execution_count": 11,
   "metadata": {},
   "outputs": [
    {
     "name": "stdout",
     "output_type": "stream",
     "text": [
      "result 1 is APPLE\n",
      "result 2 is orange\n",
      "result 3 is MANGO\n"
     ]
    }
   ],
   "source": [
    "list1=[\"apple\",\"ORANGE\",\"mango\"]\n",
    "for i in range(len(list1)):\n",
    "    print(f\"result {i+1} is\",list1[i].swapcase())"
   ]
  },
  {
   "cell_type": "markdown",
   "metadata": {},
   "source": [
    "16)Python program to merge two python dictionaries "
   ]
  },
  {
   "cell_type": "code",
   "execution_count": 51,
   "metadata": {},
   "outputs": [
    {
     "name": "stdout",
     "output_type": "stream",
     "text": [
      "{'Ajith': 12, 'Balu': 20, 'chinnu': 10, 'David': 16, 'Eshwar': 8, 'Frank': 18}\n"
     ]
    }
   ],
   "source": [
    "set1 = {'Ajith' : 12, 'Balu' : 20, 'chinnu' : 10 }\n",
    "set2 = {'David' : 16, 'Eshwar' :8, 'Frank' : 18}\n",
    "output=set1|set2\n",
    "print(output)"
   ]
  },
  {
   "cell_type": "markdown",
   "metadata": {},
   "source": [
    "Alternative method"
   ]
  },
  {
   "cell_type": "code",
   "execution_count": 59,
   "metadata": {},
   "outputs": [],
   "source": [
    "def merge_dict(set1,set2):\n",
    "    return (set1.update(set2))"
   ]
  },
  {
   "cell_type": "code",
   "execution_count": 65,
   "metadata": {},
   "outputs": [
    {
     "name": "stdout",
     "output_type": "stream",
     "text": [
      "None\n",
      "{'Ajith': 12, 'Balu': 20, 'chinnu': 10, 'David': 16, 'Eshwar': 8, 'Frank': 18}\n"
     ]
    }
   ],
   "source": [
    "set1 = {'Ajith' : 12, 'Balu' : 20, 'chinnu' : 10 }\n",
    "set2 = {'David' : 16, 'Eshwar' :8, 'Frank' : 18}\n",
    "print(merge_dict(set1,set2))\n",
    "print(set1)\n"
   ]
  },
  {
   "cell_type": "markdown",
   "metadata": {},
   "source": [
    "Alternative method 2"
   ]
  },
  {
   "cell_type": "code",
   "execution_count": 13,
   "metadata": {},
   "outputs": [
    {
     "name": "stdout",
     "output_type": "stream",
     "text": [
      "{'Ajith': 12, 'Balu': 20, 'chinnu': 10, 'David': 16, 'Eshwar': 8, 'Frank': 18}\n"
     ]
    }
   ],
   "source": [
    "set1 = {'Ajith' : 12, 'Balu' : 20, 'chinnu' : 10 }\n",
    "set2 = {'David' : 16, 'Eshwar' :8, 'Frank' : 18}\n",
    "for key,values in set2.items():\n",
    "    set1[key]=values\n",
    "print(set1)"
   ]
  },
  {
   "cell_type": "markdown",
   "metadata": {},
   "source": [
    "17)Python program to concatenate all Elements of a List into a String Using list comprehension\n",
    "\tInput=[\"All\",\"the\",\"best\"]\n",
    "\toutput= All the best."
   ]
  },
  {
   "cell_type": "code",
   "execution_count": 66,
   "metadata": {},
   "outputs": [
    {
     "name": "stdout",
     "output_type": "stream",
     "text": [
      "All the best\n"
     ]
    }
   ],
   "source": [
    "Input=[\"All\",\"the\",\"best\"]\n",
    "a= ' '.join([x for x in Input ])\n",
    "print(a)"
   ]
  },
  {
   "cell_type": "markdown",
   "metadata": {},
   "source": [
    "Alternative method"
   ]
  },
  {
   "cell_type": "code",
   "execution_count": 15,
   "metadata": {},
   "outputs": [
    {
     "name": "stdout",
     "output_type": "stream",
     "text": [
      "All the best\n"
     ]
    }
   ],
   "source": [
    "Input=[\"All\",\"the\",\"best\"]\n",
    "print(' '.join(Input))"
   ]
  },
  {
   "cell_type": "markdown",
   "metadata": {},
   "source": [
    "18)write a factorial program."
   ]
  },
  {
   "cell_type": "code",
   "execution_count": 67,
   "metadata": {},
   "outputs": [
    {
     "name": "stdout",
     "output_type": "stream",
     "text": [
      "120\n"
     ]
    }
   ],
   "source": [
    "n=int(input(\"Enter the number:\"))\n",
    "fact=1\n",
    "for i in range(1,n+1):\n",
    "    fact *= i\n",
    "print(fact)"
   ]
  },
  {
   "cell_type": "markdown",
   "metadata": {},
   "source": [
    "Alternative method"
   ]
  },
  {
   "cell_type": "code",
   "execution_count": 17,
   "metadata": {},
   "outputs": [
    {
     "name": "stdout",
     "output_type": "stream",
     "text": [
      "120\n"
     ]
    }
   ],
   "source": [
    "def fact(n):\n",
    "    if n==0:\n",
    "        return 1\n",
    "    else:\n",
    "        return n*fact(n-1)\n",
    "print(fact(5))"
   ]
  },
  {
   "cell_type": "markdown",
   "metadata": {},
   "source": [
    "19)Python program to find file exist or not."
   ]
  },
  {
   "cell_type": "code",
   "execution_count": null,
   "metadata": {},
   "outputs": [],
   "source": [
    "import os\n",
    "path=''\n",
    "print(os.path.exists(path))"
   ]
  },
  {
   "cell_type": "markdown",
   "metadata": {},
   "source": [
    "20)Write a Python program to reverse a string without using slicing."
   ]
  },
  {
   "cell_type": "code",
   "execution_count": 68,
   "metadata": {},
   "outputs": [
    {
     "name": "stdout",
     "output_type": "stream",
     "text": [
      "ahtewS\n"
     ]
    }
   ],
   "source": [
    "str1=input(\"Enter the string:\")\n",
    "str2=\"\"\n",
    "for i in str1:\n",
    "    str2=i+str2\n",
    "print(str2)"
   ]
  },
  {
   "cell_type": "markdown",
   "metadata": {},
   "source": [
    "Alternative method"
   ]
  },
  {
   "cell_type": "code",
   "execution_count": 23,
   "metadata": {},
   "outputs": [
    {
     "name": "stdout",
     "output_type": "stream",
     "text": [
      "ahtewS\n"
     ]
    }
   ],
   "source": [
    "str1=input(\"Enter the string:\")\n",
    "str2=\"\"\n",
    "for i in range(len(str1)-1,-1,-1):\n",
    "    str2+=str1[i]\n",
    "print(str2)"
   ]
  },
  {
   "cell_type": "markdown",
   "metadata": {},
   "source": [
    "21) Double the each value in the given dictionary by using comprehension method\n",
    "\tdict1 = {'a': 1, 'b': 2, 'c': 3, 'd': 4, 'e': 5}\n",
    "\t-->output= {'a': 2, 'b': 4, 'c': 6, 'd': 8, 'e': 10}"
   ]
  },
  {
   "cell_type": "code",
   "execution_count": 40,
   "metadata": {},
   "outputs": [
    {
     "data": {
      "text/plain": [
       "{'a': 2, 'b': 4, 'c': 6, 'd': 8, 'e': 10}"
      ]
     },
     "execution_count": 40,
     "metadata": {},
     "output_type": "execute_result"
    }
   ],
   "source": [
    "dict1 = {'a': 1, 'b': 2, 'c': 3, 'd': 4, 'e': 5}\n",
    "dict2=dict1.keys()\n",
    "a={i*2 for i in dict1.values()}\n",
    "dict(zip(dict2,a))"
   ]
  },
  {
   "cell_type": "markdown",
   "metadata": {},
   "source": [
    "Alternative method"
   ]
  },
  {
   "cell_type": "code",
   "execution_count": 53,
   "metadata": {},
   "outputs": [
    {
     "name": "stdout",
     "output_type": "stream",
     "text": [
      "{'a': 2, 'b': 4, 'c': 6, 'd': 8, 'e': 10}\n"
     ]
    }
   ],
   "source": [
    "dict1 = {'a': 1, 'b': 2, 'c': 3, 'd': 4, 'e': 5}\n",
    "dict_key=dict1.keys()\n",
    "output={i:dict1[i]*2 for i in dict_key}\n",
    "print(output)\n"
   ]
  },
  {
   "cell_type": "markdown",
   "metadata": {},
   "source": [
    "22) Find the given output from the input \t\t\t\t\t\t\t\t- 4\n",
    "\tlist1=[1,2,2,3,3,3,4,4,4,4,4,5,5,5,5,5]\n",
    "\t-->Output={1:1,2:2,3:3,4:4.5:5}"
   ]
  },
  {
   "cell_type": "code",
   "execution_count": 66,
   "metadata": {},
   "outputs": [
    {
     "name": "stdout",
     "output_type": "stream",
     "text": [
      "{1: 1, 2: 2, 3: 3, 4: 5, 5: 5}\n"
     ]
    }
   ],
   "source": [
    "list1=[1,2,2,3,3,3,4,4,4,4,4,5,5,5,5,5]\n",
    "count={}\n",
    "for i in list1:\n",
    "    if i in count:\n",
    "        count[i]+=1\n",
    "    else:\n",
    "        count[i]=1\n",
    "print(count)"
   ]
  },
  {
   "cell_type": "markdown",
   "metadata": {},
   "source": [
    "Alternative method"
   ]
  },
  {
   "cell_type": "code",
   "execution_count": 68,
   "metadata": {},
   "outputs": [
    {
     "name": "stdout",
     "output_type": "stream",
     "text": [
      "{1: 1, 2: 2, 3: 3, 4: 5, 5: 5}\n"
     ]
    }
   ],
   "source": [
    "list1=[1,2,2,3,3,3,4,4,4,4,4,5,5,5,5,5]\n",
    "output={x:list1.count(x) for x in list1}\n",
    "print(output)"
   ]
  },
  {
   "cell_type": "markdown",
   "metadata": {},
   "source": [
    "23) write a factorial program using recursive function"
   ]
  },
  {
   "cell_type": "code",
   "execution_count": 69,
   "metadata": {},
   "outputs": [],
   "source": [
    "def factorial(n):\n",
    "    if n==0:\n",
    "        return 1\n",
    "    else:\n",
    "        return n*factorial(n-1)"
   ]
  },
  {
   "cell_type": "code",
   "execution_count": 70,
   "metadata": {},
   "outputs": [
    {
     "data": {
      "text/plain": [
       "120"
      ]
     },
     "execution_count": 70,
     "metadata": {},
     "output_type": "execute_result"
    }
   ],
   "source": [
    "factorial(5)"
   ]
  },
  {
   "cell_type": "markdown",
   "metadata": {},
   "source": [
    "24) Write a program without using string formatting \t\t\t\t\t\t\t\n",
    "\tdirectories = ['root', 'home', 'user', 'documents']\n",
    "\t-->output=root/home/user/documents"
   ]
  },
  {
   "cell_type": "code",
   "execution_count": 76,
   "metadata": {},
   "outputs": [
    {
     "name": "stdout",
     "output_type": "stream",
     "text": [
      "root/home/user/documents\n"
     ]
    }
   ],
   "source": [
    "directories=[\"root\",\"home\",\"user\",\"documents\"]\n",
    "output=\"/\".join(directories)\n",
    "print(output)"
   ]
  },
  {
   "cell_type": "markdown",
   "metadata": {},
   "source": [
    "Alternative method"
   ]
  },
  {
   "cell_type": "code",
   "execution_count": 80,
   "metadata": {},
   "outputs": [
    {
     "name": "stdout",
     "output_type": "stream",
     "text": [
      "root/home/user/documents\n"
     ]
    }
   ],
   "source": [
    "directories=[\"root\",\"home\",\"user\",\"documents\"]\n",
    "output=\"\"\n",
    "for i in directories:\n",
    "    output+= i+'/'\n",
    "print(output.rstrip('/'))"
   ]
  },
  {
   "cell_type": "markdown",
   "metadata": {},
   "source": [
    "25) Create a csv file with following content and  \n",
    "Read the CSV file and print only those rows that has level = Good \t\t\t\t\t- 8\n",
    "\t\t\n",
    "\t\tLanguage,level\n",
    "\t\tPython,Good\n",
    "\t\tSql,Intermediate\n",
    "\t\tAngular,Basics"
   ]
  },
  {
   "cell_type": "code",
   "execution_count": 81,
   "metadata": {},
   "outputs": [],
   "source": [
    "import csv"
   ]
  },
  {
   "cell_type": "code",
   "execution_count": 82,
   "metadata": {},
   "outputs": [],
   "source": [
    "header=[\"language\",\"level\"]\n",
    "rows=[[\"Python\",\"Good\"],[\"SQL\",\"Intermediate\"],[\"Angular\",\"Basics\"]]\n",
    "with open('demo.txt','w') as f:\n",
    "    a=csv.writer(f)\n",
    "    a.writerow(header)\n",
    "    a.writerows(rows)"
   ]
  },
  {
   "cell_type": "code",
   "execution_count": 83,
   "metadata": {},
   "outputs": [
    {
     "name": "stdout",
     "output_type": "stream",
     "text": [
      "{'language': 'Python', 'level': 'Good'}\n"
     ]
    }
   ],
   "source": [
    "with open('demo.txt','r') as f:\n",
    "    b=csv.DictReader(f)\n",
    "    for row in b:\n",
    "        if row['level']=='Good':\n",
    "            print(row)"
   ]
  },
  {
   "cell_type": "markdown",
   "metadata": {},
   "source": [
    "26) Python Program to create new Dictionary from the Multiple list using list comprehension \t\n",
    "\tnames  = ['Harry', 'Hermione', 'Ron']\n",
    "\thouses = ['Gryffindor', 'Gryffindor', 'Gryffindor']\n",
    "\tpets   = ['Hedwig', 'Crookshanks', 'Scabbers']\n",
    "\twands  = ['Holly, phoenix feather', 'Vine wood, dragon heartstring', 'Willow, unicorn hair']\n",
    "\n",
    "\t-->output  \n",
    "\t{\n",
    "\t'Harry': {\n",
    "\t\t'house': 'Gryffindor',\n",
    "\t\t'pet': 'Hedwig',\n",
    "\t\t'wand': 'Holly, phoenix feather'},\n",
    "\t'Hermione': {\n",
    "\t\t'house': 'Gryffindor',\n",
    "\t\t'pet': 'Crookshanks',\n",
    "\t\t'wand': 'Vine wood, dragon heartstring'},\n",
    "\t'Ron': {\n",
    "\t\t'house': 'Gryffindor',\n",
    "\t\t'pet': 'Scabbers',\n",
    "\t\t'wand': 'Willow, unicorn hair'}\n",
    "\t}\n",
    "\t"
   ]
  },
  {
   "cell_type": "code",
   "execution_count": 84,
   "metadata": {},
   "outputs": [
    {
     "name": "stdout",
     "output_type": "stream",
     "text": [
      "{'Harry': {'house': 'Gryffindor', 'pet': 'Hedwig', 'wand': 'Holly, phoenix feather'}, 'Hermione': {'house': 'Gryffindor', 'pet': 'Crookshanks', 'wand': 'Vine wood, dragon heartstring'}, 'Ron': {'house': 'Gryffindor', 'pet': 'Scabbers', 'wand': 'Willow, unicorn hair'}}\n"
     ]
    }
   ],
   "source": [
    "names = ['Harry', 'Hermione', 'Ron']\n",
    "houses = ['Gryffindor', 'Gryffindor', 'Gryffindor']\n",
    "pets = ['Hedwig', 'Crookshanks', 'Scabbers']\n",
    "wands = ['Holly, phoenix feather', 'Vine wood, dragon heartstring', 'Willow, unicorn hair']\n",
    "res={name:{'house':house,'pet':pet,'wand':wand} for name,house,pet,wand in zip(names,houses,pets,wands)}\n",
    "print(res)"
   ]
  },
  {
   "cell_type": "code",
   "execution_count": null,
   "metadata": {},
   "outputs": [],
   "source": []
  }
 ],
 "metadata": {
  "kernelspec": {
   "display_name": "venv",
   "language": "python",
   "name": "python3"
  },
  "language_info": {
   "codemirror_mode": {
    "name": "ipython",
    "version": 3
   },
   "file_extension": ".py",
   "mimetype": "text/x-python",
   "name": "python",
   "nbconvert_exporter": "python",
   "pygments_lexer": "ipython3",
   "version": "3.12.2"
  }
 },
 "nbformat": 4,
 "nbformat_minor": 2
}
