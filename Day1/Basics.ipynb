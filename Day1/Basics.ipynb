{
 "cells": [
  {
   "cell_type": "markdown",
   "metadata": {},
   "source": [
    "Conditional Statements"
   ]
  },
  {
   "cell_type": "markdown",
   "metadata": {},
   "source": [
    "1.Temperature Converter:\n",
    "Write a Python program that asks the user to input a temperature in Celsius and then converts it to Fahrenheit. Display the result."
   ]
  },
  {
   "cell_type": "code",
   "execution_count": 2,
   "metadata": {},
   "outputs": [
    {
     "name": "stdout",
     "output_type": "stream",
     "text": [
      "Temperature in fahrenheit 89.6\n"
     ]
    }
   ],
   "source": [
    "celsius=float(input(\"Enter the temperature in celsius:\"))\n",
    "f=(9/5*celsius)+32\n",
    "print(\"Temperature in fahrenheit\",f)"
   ]
  },
  {
   "cell_type": "markdown",
   "metadata": {},
   "source": [
    "Grade Calculator:\n",
    "Write a Python program that takes a numerical grade as input and prints out the corresponding letter grade according to the following scheme:\n",
    "\n",
    "    A: 90-100\n",
    "    B: 80-89\n",
    "    C: 70-79\n",
    "    D: 60-69\n",
    "    F: 0-59"
   ]
  },
  {
   "cell_type": "code",
   "execution_count": 5,
   "metadata": {},
   "outputs": [
    {
     "name": "stdout",
     "output_type": "stream",
     "text": [
      "Grade A\n"
     ]
    }
   ],
   "source": [
    "mark=int(input(\"Enter your marks:\"))\n",
    "if mark>=90 and mark<=100:\n",
    "    print(\"Grade A\")\n",
    "elif mark>=80 and mark<=89:\n",
    "    print(\"Grade B\")\n",
    "elif mark>=70 and mark<=79:\n",
    "    print(\"Grade C\")\n",
    "elif mark>=60 and mark<=69:\n",
    "    print(\"Grade D\")\n",
    "else:\n",
    "    print(\"Grade F\")\n"
   ]
  },
  {
   "cell_type": "markdown",
   "metadata": {},
   "source": [
    "Even or Odd:\n",
    "Write a Python program that takes an integer as input and prints whether it's even or odd."
   ]
  },
  {
   "cell_type": "code",
   "execution_count": 6,
   "metadata": {},
   "outputs": [
    {
     "name": "stdout",
     "output_type": "stream",
     "text": [
      "The number 3 is odd\n"
     ]
    }
   ],
   "source": [
    "num=int(input(\"Enter the number:\"))\n",
    "if num%2==0:\n",
    "    print(f\"The number {num} is even\")\n",
    "else:\n",
    "    print(f\"The number {num} is odd\")"
   ]
  },
  {
   "cell_type": "markdown",
   "metadata": {},
   "source": [
    "Leap Year Checker:\n",
    "Write a Python program that checks if a given year is a leap year. A leap year is either:\n",
    "\n",
    "    Divisible by 4 but not by 100, or\n",
    "    Divisible by 400."
   ]
  },
  {
   "cell_type": "code",
   "execution_count": 8,
   "metadata": {},
   "outputs": [
    {
     "name": "stdout",
     "output_type": "stream",
     "text": [
      "Year 2023 is not a leap year\n"
     ]
    }
   ],
   "source": [
    "year=int(input(\"Enter the year:\"))\n",
    "if year%4==0 and year%100!=0:\n",
    "    print(f\"Year {year} is a leap year\")\n",
    "elif year%400==0 and year%100==0:\n",
    "    print(f\"Year {year} is a leap year\")\n",
    "else:\n",
    "    print(f\"Year {year} is not a leap year\")"
   ]
  },
  {
   "cell_type": "markdown",
   "metadata": {},
   "source": [
    "Triangle Type:\n",
    "Write a Python program that takes three integers as input representing the sides of a triangle. Print whether the triangle is equilateral, isosceles, or scalene."
   ]
  },
  {
   "cell_type": "code",
   "execution_count": 9,
   "metadata": {},
   "outputs": [
    {
     "name": "stdout",
     "output_type": "stream",
     "text": [
      "Equilateral\n"
     ]
    }
   ],
   "source": [
    "a=int(input(\"Enter the side a:\"))\n",
    "b=int(input(\"Enter the side b:\"))\n",
    "c=int(input(\"Enter the side c:\"))\n",
    "if a==b==c:\n",
    "    print(\"Equilateral\")\n",
    "elif a==b or b==c or c==a:\n",
    "    print(\"Isosceles\")\n",
    "else:\n",
    "    print(\"Scalene\")"
   ]
  },
  {
   "cell_type": "markdown",
   "metadata": {},
   "source": [
    "Write a program to print a multiplication table"
   ]
  },
  {
   "cell_type": "code",
   "execution_count": 3,
   "metadata": {},
   "outputs": [
    {
     "name": "stdout",
     "output_type": "stream",
     "text": [
      "5*1=5\n",
      "5*2=10\n",
      "5*3=15\n",
      "5*4=20\n",
      "5*5=25\n",
      "5*6=30\n",
      "5*7=35\n",
      "5*8=40\n",
      "5*9=45\n",
      "5*10=50\n"
     ]
    }
   ],
   "source": [
    "num=int(input(\"Enter the number to be multiplied:\"))\n",
    "for i in range(1,11):\n",
    "    mul=num*i\n",
    "    print(f\"{num}*{i}={mul}\")"
   ]
  },
  {
   "cell_type": "markdown",
   "metadata": {},
   "source": [
    "List2 = [3,6,9,1,5,7] .Find the length of the list without using any built in functions."
   ]
  },
  {
   "cell_type": "code",
   "execution_count": 8,
   "metadata": {},
   "outputs": [
    {
     "name": "stdout",
     "output_type": "stream",
     "text": [
      "6\n"
     ]
    }
   ],
   "source": [
    "List2=[3,6,9,1,5,7]\n",
    "length=0\n",
    "for i in List2:\n",
    "    length += 1\n",
    "print(length)"
   ]
  },
  {
   "cell_type": "markdown",
   "metadata": {},
   "source": [
    "List1=[22,45,”python”,21,”sample”] . \n",
    "Add 20 in the above list and sum all the integers in the list without using the sum function.\n"
   ]
  },
  {
   "cell_type": "code",
   "execution_count": 10,
   "metadata": {},
   "outputs": [
    {
     "name": "stdout",
     "output_type": "stream",
     "text": [
      "148\n"
     ]
    }
   ],
   "source": [
    "List1=[22,45,\"python\",21,\"sample\"]\n",
    "sum=0\n",
    "for i in List1:\n",
    "    if type(i)==int:\n",
    "        i+=20\n",
    "        sum += i\n",
    "print(sum)\n",
    "        "
   ]
  },
  {
   "cell_type": "markdown",
   "metadata": {},
   "source": [
    "Find the given output, from the following dictionaries\n",
    "     set1 = {'Ajith' : 12, 'Balu' : 20, 'chinnu' : 10 } \n",
    "     set2 = {'David' : 16, 'Eshwar' : 08, 'Frank' : 18} \n",
    "     output = [08,10,12,16,18,20]\n"
   ]
  },
  {
   "cell_type": "code",
   "execution_count": 25,
   "metadata": {},
   "outputs": [
    {
     "name": "stdout",
     "output_type": "stream",
     "text": [
      "[8, 10, 12, 16, 18, 20]\n"
     ]
    }
   ],
   "source": [
    "set1 = {'Ajith' : 12, 'Balu' : 20, 'chinnu' : 10 }\n",
    "set2 = {'David' : 16, 'Eshwar' : 8, 'Frank' : 18}\n",
    "\n",
    "val=list(set1.values())+list(set2.values())\n",
    "val.sort()\n",
    "print(val)\n",
    "\n"
   ]
  },
  {
   "cell_type": "markdown",
   "metadata": {},
   "source": [
    "solve the following problems\n",
    "(i)Remove the first value of tuples from list1... \n",
    "list1 = [12,1,3,34,5,6,78,(12,34),323,545,'call',23,'cut',('end','call'),2111,43]\n"
   ]
  },
  {
   "cell_type": "code",
   "execution_count": 29,
   "metadata": {},
   "outputs": [],
   "source": [
    "list1 = [12,1,3,34,5,6,78,(12,34),323,545,'call',23,'cut',('end','call'),2111,43]\n",
    "list2=[]\n"
   ]
  },
  {
   "cell_type": "markdown",
   "metadata": {},
   "source": [
    " l=[1,2,3,4]\n",
    "    s=[\"s\",\"d\",\"w\"]\n",
    "    Output: {'s': [1, 2, 3, 4], 'd': [1, 2, 3, 4], 'w': [1, 2, 3, 4]}\n"
   ]
  },
  {
   "cell_type": "code",
   "execution_count": 39,
   "metadata": {},
   "outputs": [
    {
     "data": {
      "text/plain": [
       "{'s': [1, 2, 3, 4], 'd': [1, 2, 3, 4], 'w': [1, 2, 3, 4]}"
      ]
     },
     "execution_count": 39,
     "metadata": {},
     "output_type": "execute_result"
    }
   ],
   "source": [
    "l=[1,2,3,4]\n",
    "s=[\"s\",\"d\",\"w\"]\n",
    "details=dict()\n",
    "details.fromkeys(s,l)\n",
    "\n"
   ]
  },
  {
   "cell_type": "markdown",
   "metadata": {},
   "source": [
    "Write a loop to display a number series with 20 numbers, from 7 and the difference between them is 8, and to filter out three middle values in the series. (The number series should have 23 numbers, starting from 7 and the difference between them is 8, but without the middle values of 11, 12, 13 sequence of numbers).\n"
   ]
  },
  {
   "cell_type": "code",
   "execution_count": 52,
   "metadata": {},
   "outputs": [
    {
     "name": "stdout",
     "output_type": "stream",
     "text": [
      "[7, 15, 23, 31, 39, 47, 55, 63, 71, 79, 87, 95, 103, 111, 119, 127, 135, 143, 151, 159, 167, 175, 183]\n"
     ]
    }
   ],
   "source": [
    "res=[]\n",
    "for i in range(7,184,8):\n",
    "    res.append(i)\n",
    "print(res)"
   ]
  },
  {
   "cell_type": "code",
   "execution_count": 53,
   "metadata": {},
   "outputs": [
    {
     "name": "stdout",
     "output_type": "stream",
     "text": [
      "[7, 15, 23, 31, 39, 47, 55, 63, 71, 79, 111, 119, 127, 135, 143, 151, 159, 167, 175, 183]\n"
     ]
    }
   ],
   "source": [
    "del res[10]\n",
    "del res[10]\n",
    "del res[10]\n",
    "print(res)"
   ]
  },
  {
   "cell_type": "markdown",
   "metadata": {},
   "source": [
    "Print Prime numbers up to the given input.\n",
    "input=50"
   ]
  },
  {
   "cell_type": "code",
   "execution_count": 63,
   "metadata": {},
   "outputs": [
    {
     "name": "stdout",
     "output_type": "stream",
     "text": [
      "Is a prime\n"
     ]
    }
   ],
   "source": [
    "num=int(input(\"Enter the number:\"))\n",
    "for num in range(1,50):\n",
    "    if num==1 and num>=1:\n",
    "        for i in range(2,num):\n",
    "            if i%num==0:\n",
    "                print(\"Not a prime\")\n",
    "else:\n",
    "    print(\"Is a prime\")\n"
   ]
  },
  {
   "cell_type": "markdown",
   "metadata": {},
   "source": [
    "Write a Python program to write a text file and read that file."
   ]
  },
  {
   "cell_type": "code",
   "execution_count": 65,
   "metadata": {},
   "outputs": [],
   "source": [
    "with open(\"demo.txt\",\"w\") as file:\n",
    "    file.write(\"Swetha is practicing for tomorrow's python test\")"
   ]
  },
  {
   "cell_type": "code",
   "execution_count": 67,
   "metadata": {},
   "outputs": [
    {
     "name": "stdout",
     "output_type": "stream",
     "text": [
      "Swetha is practicing for tomorrow's python test\n"
     ]
    }
   ],
   "source": [
    "with open(\"demo.txt\",\"r\") as f:\n",
    "    f1=f.read()\n",
    "    print(f1)"
   ]
  },
  {
   "cell_type": "markdown",
   "metadata": {},
   "source": [
    "Python program to calculate the sum of three given numbers,\n",
    "\tif the values are equal then return its cube of their number.\n"
   ]
  },
  {
   "cell_type": "code",
   "execution_count": 69,
   "metadata": {},
   "outputs": [
    {
     "name": "stdout",
     "output_type": "stream",
     "text": [
      "1728\n"
     ]
    }
   ],
   "source": [
    "num1=int(input(\"Enter num1:\"))\n",
    "num2=int(input(\"Enter num2:\"))\n",
    "num3=int(input(\"Enter num3:\"))\n",
    "\n",
    "if num1==num2==num3:\n",
    "    cube=num1**3\n",
    "    print(cube)\n",
    "else:\n",
    "    sum=num1+num2+num3\n",
    "    print(sum)"
   ]
  },
  {
   "cell_type": "markdown",
   "metadata": {},
   "source": [
    "Python Program to find Leap year."
   ]
  },
  {
   "cell_type": "code",
   "execution_count": 71,
   "metadata": {},
   "outputs": [
    {
     "name": "stdout",
     "output_type": "stream",
     "text": [
      "Its not a leap year\n"
     ]
    }
   ],
   "source": [
    "year=int(input(\"Enter the year:\"))\n",
    "if (year%4==0) and (year%10!=0):\n",
    "    print(\"It is a leap year\")\n",
    "elif(year%400==0) and (year%100==0):\n",
    "    print(\"Its a leap year\")\n",
    "else:\n",
    "    print(\"Its not a leap year\")"
   ]
  },
  {
   "cell_type": "markdown",
   "metadata": {},
   "source": [
    "Python program to Print unique values in the list.\n",
    "\tlist=[1,2,2,3,3,3,4,4,5,5]\n",
    "\toutput=[1,2,,3,4,5]\n"
   ]
  },
  {
   "cell_type": "code",
   "execution_count": 75,
   "metadata": {},
   "outputs": [
    {
     "name": "stdout",
     "output_type": "stream",
     "text": [
      "[1, 2, 3, 4, 5]\n"
     ]
    }
   ],
   "source": [
    "list1=[1,2,2,3,3,3,4,4,5,5]\n",
    "unique_list=set(list1)\n",
    "print(list(unique_list))"
   ]
  },
  {
   "cell_type": "code",
   "execution_count": 77,
   "metadata": {},
   "outputs": [
    {
     "name": "stdout",
     "output_type": "stream",
     "text": [
      "[1, 2, 3, 4, 5]\n"
     ]
    }
   ],
   "source": [
    "list1=[1,2,2,3,3,3,4,4,5,5]\n",
    "u_list=[]\n",
    "a=[u_list.append(x) for x in list1 if x not in u_list]\n",
    "print(u_list)"
   ]
  },
  {
   "cell_type": "markdown",
   "metadata": {},
   "source": [
    "Find all prime number in an interval of (900,1000)."
   ]
  },
  {
   "cell_type": "code",
   "execution_count": 92,
   "metadata": {},
   "outputs": [
    {
     "name": "stdout",
     "output_type": "stream",
     "text": [
      "901\n",
      "907\n",
      "911\n",
      "913\n",
      "919\n",
      "923\n",
      "929\n",
      "937\n",
      "941\n",
      "943\n",
      "947\n",
      "949\n",
      "953\n",
      "961\n",
      "967\n",
      "971\n",
      "977\n",
      "979\n",
      "983\n",
      "989\n",
      "991\n",
      "997\n"
     ]
    }
   ],
   "source": [
    "for i in range(900,1000):\n",
    "    if i%2!=0 and i%3!=0 and i%5!=0 and i%7!=0:  \n",
    "        print(i)"
   ]
  },
  {
   "cell_type": "markdown",
   "metadata": {},
   "source": [
    "Find the given output from the input using slicing\n",
    "\tInput=('a','b','c','d','e','f','g','h')\n",
    "\toutput=('a', 'c', 'e')"
   ]
  },
  {
   "cell_type": "code",
   "execution_count": 93,
   "metadata": {},
   "outputs": [
    {
     "data": {
      "text/plain": [
       "('a', 'c', 'e')"
      ]
     },
     "execution_count": 93,
     "metadata": {},
     "output_type": "execute_result"
    }
   ],
   "source": [
    "Input=('a','b','c','d','e','f','g','h')\n",
    "Input[0:5:2]"
   ]
  },
  {
   "cell_type": "markdown",
   "metadata": {},
   "source": [
    "Write a String Formatting program \n",
    "\tlist=[\"apple\",\"ORANGE\",\"mango\"]\n",
    "\tOUTPUT= result 1 is APPLE\n",
    "\t\tresult 2 is orange\n",
    "\t\tresult 3 is Mango\n"
   ]
  },
  {
   "cell_type": "code",
   "execution_count": 113,
   "metadata": {},
   "outputs": [
    {
     "name": "stdout",
     "output_type": "stream",
     "text": [
      "APPLE\n",
      "orange\n",
      "Mango\n"
     ]
    }
   ],
   "source": [
    "list1=[\"apple\",\"ORANGE\",\"mango\"]\n",
    "print(list1[0].upper())\n",
    "print(list1[1].lower())\n",
    "print(list1[2].title())\n",
    "    "
   ]
  },
  {
   "cell_type": "markdown",
   "metadata": {},
   "source": [
    "Python program to merge two python dictionaries"
   ]
  },
  {
   "cell_type": "code",
   "execution_count": 115,
   "metadata": {},
   "outputs": [
    {
     "data": {
      "text/plain": [
       "{'name': 'swetha', 'age': 21}"
      ]
     },
     "execution_count": 115,
     "metadata": {},
     "output_type": "execute_result"
    }
   ],
   "source": [
    "a={\"name\":\"swetha\"}\n",
    "b={\"age\":21}\n",
    "a|b"
   ]
  },
  {
   "cell_type": "markdown",
   "metadata": {},
   "source": [
    "Python program to concatenate all Elements of a List into a String Using list comprehension\n",
    "\tInput=[\"All\",\"the\",\"best\"]\n",
    "\toutput= All the best."
   ]
  },
  {
   "cell_type": "code",
   "execution_count": 119,
   "metadata": {},
   "outputs": [
    {
     "name": "stdout",
     "output_type": "stream",
     "text": [
      "All the best\n"
     ]
    }
   ],
   "source": [
    "Input=[\"All\",\"the\",\"best\"]\n",
    "a= ' '.join([x for x in Input ])\n",
    "print(a)"
   ]
  },
  {
   "cell_type": "markdown",
   "metadata": {},
   "source": [
    "write a factorial program."
   ]
  },
  {
   "cell_type": "code",
   "execution_count": 120,
   "metadata": {},
   "outputs": [
    {
     "name": "stdout",
     "output_type": "stream",
     "text": [
      "120\n"
     ]
    }
   ],
   "source": [
    "n=int(input(\"Enter the number:\"))\n",
    "fact=1\n",
    "for i in range(1,n+1):\n",
    "    fact *= i\n",
    "print(fact)"
   ]
  },
  {
   "cell_type": "markdown",
   "metadata": {},
   "source": [
    "Write a Python program to reverse a string without using slicing."
   ]
  },
  {
   "cell_type": "code",
   "execution_count": 123,
   "metadata": {},
   "outputs": [
    {
     "name": "stdout",
     "output_type": "stream",
     "text": [
      "ahtewS\n"
     ]
    }
   ],
   "source": [
    "str1=input(\"Enter the string:\")\n",
    "str2=\"\"\n",
    "for i in str1:\n",
    "    str2=i+str2\n",
    "print(str2)"
   ]
  },
  {
   "cell_type": "markdown",
   "metadata": {},
   "source": [
    "LIST COMPREHENSION"
   ]
  },
  {
   "cell_type": "markdown",
   "metadata": {},
   "source": [
    "Write a program to create a list of squares of even numbers from 1 to 10 using list comprehension."
   ]
  },
  {
   "cell_type": "code",
   "execution_count": 4,
   "metadata": {},
   "outputs": [
    {
     "name": "stdout",
     "output_type": "stream",
     "text": [
      "[4, 16, 36, 64, 100]\n"
     ]
    }
   ],
   "source": [
    "a=[a**2 for a in range(1,11) if a%2==0 ]\n",
    "print(a)"
   ]
  },
  {
   "cell_type": "markdown",
   "metadata": {},
   "source": [
    "Write a program to convert a list of strings to uppercase using list comprehension."
   ]
  },
  {
   "cell_type": "code",
   "execution_count": 6,
   "metadata": {},
   "outputs": [
    {
     "name": "stdout",
     "output_type": "stream",
     "text": [
      "['SWETHA', 'SRI', 'SEENU']\n"
     ]
    }
   ],
   "source": [
    "lst=[\"Swetha\",\"Sri\",\"Seenu\"]\n",
    "a=[x.upper() for x in lst]\n",
    "print(a)"
   ]
  },
  {
   "cell_type": "markdown",
   "metadata": {},
   "source": [
    "Python program to concatenate all Elements of a List into a String Using list comprehension\n",
    "\tInput=[\"All\",\"the\",\"best\"]\n",
    "\toutput= All the best.\n"
   ]
  },
  {
   "cell_type": "code",
   "execution_count": 10,
   "metadata": {},
   "outputs": [
    {
     "name": "stdout",
     "output_type": "stream",
     "text": [
      "All the best\n"
     ]
    }
   ],
   "source": [
    "Input=[\"All\",\"the\",\"best\"]\n",
    "a=' '.join(x for x in Input)\n",
    "print(a)"
   ]
  },
  {
   "cell_type": "markdown",
   "metadata": {},
   "source": [
    "FILE HANDLING"
   ]
  },
  {
   "cell_type": "code",
   "execution_count": 12,
   "metadata": {},
   "outputs": [],
   "source": [
    "import pathlib"
   ]
  },
  {
   "cell_type": "code",
   "execution_count": 14,
   "metadata": {},
   "outputs": [],
   "source": [
    "from pathlib import Path"
   ]
  },
  {
   "cell_type": "code",
   "execution_count": 15,
   "metadata": {},
   "outputs": [
    {
     "data": {
      "text/plain": [
       "WindowsPath('c:/Users/Swetha/Desktop/Python Practise/Day1')"
      ]
     },
     "execution_count": 15,
     "metadata": {},
     "output_type": "execute_result"
    }
   ],
   "source": [
    "Path.cwd()"
   ]
  },
  {
   "cell_type": "markdown",
   "metadata": {},
   "source": [
    "LISTDIR"
   ]
  },
  {
   "cell_type": "code",
   "execution_count": 16,
   "metadata": {},
   "outputs": [],
   "source": [
    "import os"
   ]
  },
  {
   "cell_type": "code",
   "execution_count": 17,
   "metadata": {},
   "outputs": [
    {
     "name": "stdout",
     "output_type": "stream",
     "text": [
      "Basics.ipynb\n",
      "Day1\n",
      "requirements.txt\n",
      "venv\n"
     ]
    }
   ],
   "source": [
    "for entry in os.listdir(\"C://Users/Swetha/Desktop/Python Practise\"):\n",
    "    print(entry)"
   ]
  },
  {
   "cell_type": "code",
   "execution_count": 19,
   "metadata": {},
   "outputs": [
    {
     "name": "stdout",
     "output_type": "stream",
     "text": [
      "File\n",
      "Directory\n",
      "File\n",
      "Directory\n"
     ]
    }
   ],
   "source": [
    "for entry in os.listdir(\"C://Users/Swetha/Desktop/Python Practise\"):\n",
    "    if os.path.isdir(os.path.join(\"C://Users/Swetha/Desktop/Python Practise\",entry)):\n",
    "        print(\"Directory\")\n",
    "    elif os.path.isfile(os.path.join(\"C://Users/Swetha/Desktop/Python Practise\",entry)):\n",
    "        print(\"File\")\n",
    "    else:\n",
    "        print(\"Something else\")\n"
   ]
  },
  {
   "cell_type": "code",
   "execution_count": 25,
   "metadata": {},
   "outputs": [
    {
     "name": "stdout",
     "output_type": "stream",
     "text": [
      "C://Users/Swetha/Desktop/Python Practise\\Day1\n",
      "Basics.ipynb\n",
      "demo.txt\n",
      "C://Users/Swetha/Desktop/Python Practise\\venv\n",
      "Include\n",
      "Lib\n",
      "pyvenv.cfg\n",
      "Scripts\n",
      "share\n"
     ]
    }
   ],
   "source": [
    "for entry in os.listdir(\"C://Users/Swetha/Desktop/Python Practise\"):\n",
    "    if os.path.isdir(os.path.join(\"C://Users/Swetha/Desktop/Python Practise\",entry)):\n",
    "        b=os.path.join(\"C://Users/Swetha/Desktop/Python Practise\",entry)\n",
    "        print(b)\n",
    "        for i in os.listdir(b):\n",
    "            print(i)"
   ]
  },
  {
   "cell_type": "markdown",
   "metadata": {},
   "source": [
    "SCANDIR"
   ]
  },
  {
   "cell_type": "code",
   "execution_count": 22,
   "metadata": {},
   "outputs": [
    {
     "name": "stdout",
     "output_type": "stream",
     "text": [
      "Basics.ipynb\n",
      "Day1\n",
      "requirements.txt\n",
      "venv\n"
     ]
    }
   ],
   "source": [
    "with os.scandir(\"C://Users/Swetha/Desktop/Python Practise\")as entry:\n",
    "    for i in entry:\n",
    "        print(i.name)"
   ]
  },
  {
   "cell_type": "code",
   "execution_count": 28,
   "metadata": {},
   "outputs": [
    {
     "ename": "TypeError",
     "evalue": "'nt.ScandirIterator' object is not callable",
     "output_type": "error",
     "traceback": [
      "\u001b[1;31m---------------------------------------------------------------------------\u001b[0m",
      "\u001b[1;31mTypeError\u001b[0m                                 Traceback (most recent call last)",
      "Cell \u001b[1;32mIn[28], line 2\u001b[0m\n\u001b[0;32m      1\u001b[0m \u001b[38;5;28;01mwith\u001b[39;00m os\u001b[38;5;241m.\u001b[39mscandir(\u001b[38;5;124m\"\u001b[39m\u001b[38;5;124mC://Users/Swetha/Desktop/Python Practise\u001b[39m\u001b[38;5;124m\"\u001b[39m)\u001b[38;5;28;01mas\u001b[39;00m entry:\n\u001b[1;32m----> 2\u001b[0m     \u001b[38;5;28;01mfor\u001b[39;00m e \u001b[38;5;129;01min\u001b[39;00m \u001b[43mentry\u001b[49m\u001b[43m(\u001b[49m\u001b[43m)\u001b[49m:\n\u001b[0;32m      3\u001b[0m         \u001b[38;5;28;01mif\u001b[39;00m i\u001b[38;5;241m.\u001b[39mis_dir():\n\u001b[0;32m      4\u001b[0m             \u001b[38;5;28mprint\u001b[39m(\u001b[38;5;124m\"\u001b[39m\u001b[38;5;124mDirectory\u001b[39m\u001b[38;5;124m\"\u001b[39m)\n",
      "\u001b[1;31mTypeError\u001b[0m: 'nt.ScandirIterator' object is not callable"
     ]
    }
   ],
   "source": [
    "with os.scandir(\"C://Users/Swetha/Desktop/Python Practise\")as entry:\n",
    "    for e in entry():\n",
    "        if i.is_dir():\n",
    "            print(\"Directory\")\n",
    "        elif i.is_file():\n",
    "            print(\"File\")\n",
    "        else:\n",
    "            print(\"Something else\")"
   ]
  },
  {
   "cell_type": "code",
   "execution_count": null,
   "metadata": {},
   "outputs": [],
   "source": []
  }
 ],
 "metadata": {
  "kernelspec": {
   "display_name": "venv",
   "language": "python",
   "name": "python3"
  },
  "language_info": {
   "codemirror_mode": {
    "name": "ipython",
    "version": 3
   },
   "file_extension": ".py",
   "mimetype": "text/x-python",
   "name": "python",
   "nbconvert_exporter": "python",
   "pygments_lexer": "ipython3",
   "version": "3.12.2"
  }
 },
 "nbformat": 4,
 "nbformat_minor": 2
}
