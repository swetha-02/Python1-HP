{
 "cells": [
  {
   "cell_type": "markdown",
   "metadata": {},
   "source": [
    "Find the given output from the input \t\t\t\t\t\t\t\t- 4\n",
    "\tlist1=[1,2,2,3,3,3,4,4,4,4,4,5,5,5,5,5]\n",
    "\t-->Output={1:1,2:2,3:3,4:4.5:5}"
   ]
  },
  {
   "cell_type": "code",
   "execution_count": 1,
   "metadata": {},
   "outputs": [
    {
     "name": "stdout",
     "output_type": "stream",
     "text": [
      "{1: 1, 2: 2, 3: 3, 4: 5, 5: 5}\n"
     ]
    }
   ],
   "source": [
    "list1=[1,2,2,3,3,3,4,4,4,4,4,5,5,5,5,5]\n",
    "count={}\n",
    "for i in list1:\n",
    "    if i in count:\n",
    "        count[i] += 1\n",
    "    else:\n",
    "        count[i] = 1\n",
    "print(count)\n",
    "\t"
   ]
  },
  {
   "cell_type": "markdown",
   "metadata": {},
   "source": [
    "directories = ['root', 'home', 'user', 'documents']\n",
    "\t-->output=root/home/user/documents\n"
   ]
  },
  {
   "cell_type": "code",
   "execution_count": 7,
   "metadata": {},
   "outputs": [
    {
     "name": "stdout",
     "output_type": "stream",
     "text": [
      "root/home/user/documents/"
     ]
    }
   ],
   "source": [
    "directories = ['root', 'home', 'user', 'documents']\n",
    "for i in directories:\n",
    "    print(i,end=\"/\")\n"
   ]
  },
  {
   "cell_type": "markdown",
   "metadata": {},
   "source": [
    "Create a csv file with following content and  \n",
    "Read the CSV file and print only those rows that has level = Good \t\t\t\t\t- 8\n",
    "\t\t\n",
    "\t\tLanguage,level\n",
    "\t\tPython,Good\n",
    "\t\tSql,Intermediate\n",
    "\t\tAngular,Basics"
   ]
  },
  {
   "cell_type": "code",
   "execution_count": 8,
   "metadata": {},
   "outputs": [],
   "source": [
    "import csv"
   ]
  },
  {
   "cell_type": "code",
   "execution_count": 10,
   "metadata": {},
   "outputs": [],
   "source": [
    "header=[\"language\",\"level\"]\n",
    "rows=[[\"Python\",\"Good\"],[\"SQL\",\"Intermediate\"],[\"Angular\",\"Basics\"]]\n",
    "with open('demo.txt','w') as f:\n",
    "    a=csv.writer(f)\n",
    "    a.writerow(header)\n",
    "    a.writerows(rows)"
   ]
  },
  {
   "cell_type": "code",
   "execution_count": 11,
   "metadata": {},
   "outputs": [
    {
     "name": "stdout",
     "output_type": "stream",
     "text": [
      "{'language': 'Python', 'level': 'Good'}\n"
     ]
    }
   ],
   "source": [
    "with open('demo.txt','r') as f:\n",
    "    b=csv.DictReader(f)\n",
    "    for row in b:\n",
    "        if row['level']=='Good':\n",
    "            print(row)"
   ]
  },
  {
   "cell_type": "markdown",
   "metadata": {},
   "source": [
    "Python Program to create new Dictionary from the Multiple list using list comprehension \t\t- 10\n",
    "\tnames  = ['Harry', 'Hermione', 'Ron']\n",
    "\thouses = ['Gryffindor', 'Gryffindor', 'Gryffindor']\n",
    "\tpets   = ['Hedwig', 'Crookshanks', 'Scabbers']\n",
    "\twands  = ['Holly, phoenix feather', 'Vine wood, dragon heartstring', 'Willow, unicorn hair']\n",
    "\n",
    "\t-->output  \n",
    "\t{\n",
    "\t'Harry': {\n",
    "\t\t'house': 'Gryffindor',\n",
    "\t\t'pet': 'Hedwig',\n",
    "\t\t'wand': 'Holly, phoenix feather'},\n",
    "\t'Hermione': {\n",
    "\t\t'house': 'Gryffindor',\n",
    "\t\t'pet': 'Crookshanks',\n",
    "\t\t'wand': 'Vine wood, dragon heartstring'},\n",
    "\t'Ron': {\n",
    "\t\t'house': 'Gryffindor',\n",
    "\t\t'pet': 'Scabbers',\n",
    "\t\t'wand': 'Willow, unicorn hair'}"
   ]
  },
  {
   "cell_type": "code",
   "execution_count": 12,
   "metadata": {},
   "outputs": [],
   "source": [
    "names = ['Harry', 'Hermione', 'Ron']\n",
    "houses = ['Gryffindor', 'Gryffindor', 'Gryffindor']\n",
    "pets = ['Hedwig', 'Crookshanks', 'Scabbers']\n",
    "wands = ['Holly, phoenix feather', 'Vine wood, dragon heartstring', 'Willow, unicorn hair']\n",
    "res={name:{'house':house,'pet':pet,'wand':wand} for name,house,pet,wand in zip(names,houses,pets,wands)}"
   ]
  },
  {
   "cell_type": "code",
   "execution_count": 13,
   "metadata": {},
   "outputs": [
    {
     "name": "stdout",
     "output_type": "stream",
     "text": [
      "{'Harry': {'house': 'Gryffindor', 'pet': 'Hedwig', 'wand': 'Holly, phoenix feather'}, 'Hermione': {'house': 'Gryffindor', 'pet': 'Crookshanks', 'wand': 'Vine wood, dragon heartstring'}, 'Ron': {'house': 'Gryffindor', 'pet': 'Scabbers', 'wand': 'Willow, unicorn hair'}}\n"
     ]
    }
   ],
   "source": [
    "print(res)"
   ]
  },
  {
   "cell_type": "code",
   "execution_count": null,
   "metadata": {},
   "outputs": [],
   "source": []
  }
 ],
 "metadata": {
  "kernelspec": {
   "display_name": "venv",
   "language": "python",
   "name": "python3"
  },
  "language_info": {
   "codemirror_mode": {
    "name": "ipython",
    "version": 3
   },
   "file_extension": ".py",
   "mimetype": "text/x-python",
   "name": "python",
   "nbconvert_exporter": "python",
   "pygments_lexer": "ipython3",
   "version": "3.12.2"
  }
 },
 "nbformat": 4,
 "nbformat_minor": 2
}
